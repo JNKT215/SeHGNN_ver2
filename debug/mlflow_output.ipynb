{
 "cells": [
  {
   "cell_type": "code",
   "execution_count": 9,
   "metadata": {},
   "outputs": [],
   "source": [
    "import pandas as pd  \n",
    "import os \n",
    "input_file_path,output_file_path =\"./input\",\"./output\"\n",
    "input_file,output_file = \"runs_2024_10_15.csv\",\"test.csv\"\n",
    "output_columns = [\n",
    "     'test_acc_macro_mean','test_acc_micro_mean',\n",
    "     'test_acc_macro_max', 'test_acc_macro_min',\n",
    "     'test_acc_micro_max', 'test_acc_micro_min',\n",
    "     'calc_type','dataset','label_feats', 'neighbor_aggr_mode', 'neighbor_encoder',\n",
    "     'num_hop', 'num_label_hops','run', 'sampling_limit',\n",
    "     'submetapath_feature_weight','submetapath_hops'\n",
    "    ]"
   ]
  },
  {
   "cell_type": "code",
   "execution_count": 10,
   "metadata": {},
   "outputs": [],
   "source": [
    "df = pd.read_csv(f\"{input_file_path}/{input_file}\").fillna(\"\")\n",
    "other_columns = [col for col in df.columns if col not in output_columns]\n",
    "new_col_order = output_columns + other_columns\n",
    "df = df.reindex(columns=new_col_order)\n",
    "os.makedirs(output_file_path,exist_ok=True)\n",
    "df.to_csv(f\"{output_file_path}/{output_file}\",index=False)"
   ]
  },
  {
   "cell_type": "code",
   "execution_count": null,
   "metadata": {},
   "outputs": [
    {
     "data": {
      "text/plain": [
       "Index(['test_acc_macro_mean', 'test_acc_micro_mean', 'test_acc_macro_max',\n",
       "       'test_acc_macro_min', 'test_acc_micro_max', 'test_acc_micro_min',\n",
       "       'calc_type', 'dataset', 'label_feats', 'neighbor_aggr_mode',\n",
       "       'neighbor_encoder', 'num_hop', 'num_label_hops', 'run',\n",
       "       'sampling_limit', 'submetapath_feature_weight', 'submetapath_hops',\n",
       "       'Start Time', 'Duration', 'Run ID', 'Name', 'Source Type',\n",
       "       'Source Name', 'User', 'Status', 'ACM_keep_F', 'act', 'amp', 'att_drop',\n",
       "       'batch_size', 'cpu', 'dropout', 'embed_size', 'epochs', 'gpu', 'gpu_id',\n",
       "       'hidden', 'input_drop', 'lr', 'model', 'n_fp_layers', 'n_task_layers',\n",
       "       'nclass', 'num_heads', 'path', 'patience', 'residual', 'root', 'seeds',\n",
       "       'sub_metapth_act', 'tgt_type', 'weight_decay'],\n",
       "      dtype='object')"
      ]
     },
     "execution_count": 13,
     "metadata": {},
     "output_type": "execute_result"
    }
   ],
   "source": [
    "df"
   ]
  },
  {
   "cell_type": "markdown",
   "metadata": {},
   "source": []
  }
 ],
 "metadata": {
  "kernelspec": {
   "display_name": "Python 3",
   "language": "python",
   "name": "python3"
  },
  "language_info": {
   "codemirror_mode": {
    "name": "ipython",
    "version": 3
   },
   "file_extension": ".py",
   "mimetype": "text/x-python",
   "name": "python",
   "nbconvert_exporter": "python",
   "pygments_lexer": "ipython3",
   "version": "3.11.8"
  }
 },
 "nbformat": 4,
 "nbformat_minor": 2
}
